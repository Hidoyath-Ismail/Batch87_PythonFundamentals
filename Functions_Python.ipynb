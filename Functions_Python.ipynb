{
 "cells": [
  {
   "cell_type": "code",
   "execution_count": null,
   "id": "0d2eb850-df80-4c2d-b122-31cb3e9e0eb8",
   "metadata": {},
   "outputs": [],
   "source": [
    "# Introduction to Python Functions"
   ]
  },
  {
   "cell_type": "code",
   "execution_count": 1,
   "id": "288b4d13-76d0-4539-b7a3-a5a74ff1a359",
   "metadata": {},
   "outputs": [],
   "source": [
    "# defining a function to print hello\n",
    "def greet_user():\n",
    "    \"\"\" display a simple greeting \"\"\"\n",
    "    print(\"Hello!\")"
   ]
  },
  {
   "cell_type": "code",
   "execution_count": 3,
   "id": "4a7da23d-b770-4b62-a74f-7f9db42243e7",
   "metadata": {},
   "outputs": [
    {
     "name": "stdout",
     "output_type": "stream",
     "text": [
      "Hello!\n"
     ]
    }
   ],
   "source": [
    "# calling the function\n",
    "greet_user()"
   ]
  },
  {
   "cell_type": "code",
   "execution_count": 7,
   "id": "32ac0f4d-ce82-4dc7-899e-749fc700d991",
   "metadata": {},
   "outputs": [],
   "source": [
    "# defining a function to greet hello with the user name\n",
    "def greet_user(user_name): # user_name is the parameter or params\n",
    "    \"\"\" display a greeting with the user name\"\"\"\n",
    "    print(f\"Hello, {user_name.title()}!\")\n"
   ]
  },
  {
   "cell_type": "code",
   "execution_count": 9,
   "id": "20e81a53-7a3f-45eb-9648-b65c34c0a22d",
   "metadata": {},
   "outputs": [
    {
     "name": "stdout",
     "output_type": "stream",
     "text": [
      "Hello, Nihki!\n"
     ]
    }
   ],
   "source": [
    "# calling the function using the argument\n",
    "greet_user(\"Nihki\")"
   ]
  },
  {
   "cell_type": "code",
   "execution_count": 11,
   "id": "c6fda79e-3723-4650-a138-14f2dd6e2b1d",
   "metadata": {},
   "outputs": [],
   "source": [
    "# Functions with two parameters \n",
    "def describe_pet(pet_type, pet_name):\n",
    "    \"\"\" this function returns pet type and it's name \"\"\"\n",
    "    print(f\"\\n I've a {pet_type}\")\n",
    "    print(f\"\\n It's name is {pet_name}\")\n"
   ]
  },
  {
   "cell_type": "code",
   "execution_count": 13,
   "id": "11da9c5e-4f83-4014-995d-9bb61bd79e52",
   "metadata": {},
   "outputs": [
    {
     "name": "stdout",
     "output_type": "stream",
     "text": [
      "\n",
      " I've a dog\n",
      "\n",
      " It's name is johny\n"
     ]
    }
   ],
   "source": [
    "# Calling the function using **positional** argument\n",
    "describe_pet('dog', 'johny')"
   ]
  },
  {
   "cell_type": "code",
   "execution_count": 15,
   "id": "fc4ab1c3-6519-42db-840f-a5c683b1f6c6",
   "metadata": {},
   "outputs": [
    {
     "name": "stdout",
     "output_type": "stream",
     "text": [
      "\n",
      " I've a johny\n",
      "\n",
      " It's name is pet\n"
     ]
    }
   ],
   "source": [
    "describe_pet('johny', 'pet') # The order of passing the arguments is important in positional arguments"
   ]
  },
  {
   "cell_type": "code",
   "execution_count": 19,
   "id": "ee58de68-a74d-4380-bbd6-40e3cae87b6c",
   "metadata": {},
   "outputs": [],
   "source": [
    "# Function to describe Keyword argument\n",
    "def describe_pet(pet_type, pet_name):\n",
    "    \"\"\" this function returns the pet type and it's name\"\"\"\n",
    "    print(f\"I've a {pet_type}\")\n",
    "    print(f\"\\nIt's name is {pet_name}\")"
   ]
  },
  {
   "cell_type": "code",
   "execution_count": 21,
   "id": "ed5b0928-5f37-4b31-b477-20bf76827cb3",
   "metadata": {},
   "outputs": [
    {
     "name": "stdout",
     "output_type": "stream",
     "text": [
      "I've a cat\n",
      "\n",
      "It's name is lissy\n"
     ]
    }
   ],
   "source": [
    "# Calling the function using keyword arguments\n",
    "describe_pet(pet_type='cat', pet_name='lissy')"
   ]
  },
  {
   "cell_type": "code",
   "execution_count": 23,
   "id": "8ee278cb-21ac-41fe-81c4-bf5baad2215f",
   "metadata": {},
   "outputs": [
    {
     "name": "stdout",
     "output_type": "stream",
     "text": [
      "I've a cat\n",
      "\n",
      "It's name is lissy\n"
     ]
    }
   ],
   "source": [
    "describe_pet(pet_name='lissy', pet_type='cat')"
   ]
  },
  {
   "cell_type": "code",
   "execution_count": null,
   "id": "c97c77e3-b537-44df-b9a6-d713b3f0dfa5",
   "metadata": {},
   "outputs": [],
   "source": [
    "# We understand the order is not impacted when we call the function using keyword arguments."
   ]
  }
 ],
 "metadata": {
  "kernelspec": {
   "display_name": "Python 3 (ipykernel)",
   "language": "python",
   "name": "python3"
  },
  "language_info": {
   "codemirror_mode": {
    "name": "ipython",
    "version": 3
   },
   "file_extension": ".py",
   "mimetype": "text/x-python",
   "name": "python",
   "nbconvert_exporter": "python",
   "pygments_lexer": "ipython3",
   "version": "3.11.7"
  }
 },
 "nbformat": 4,
 "nbformat_minor": 5
}
