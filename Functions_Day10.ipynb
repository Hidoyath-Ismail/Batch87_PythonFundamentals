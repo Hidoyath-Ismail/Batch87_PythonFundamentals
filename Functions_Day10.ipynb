{
 "cells": [
  {
   "cell_type": "code",
   "execution_count": null,
   "id": "61fe1a3b-a14a-40d1-b0ce-c68e215be10f",
   "metadata": {},
   "outputs": [],
   "source": [
    "# Topics covered:\n",
    "# Functions returning a value\n",
    "# Use of arbitary arguments\n",
    "# Use of arbitary & positional arguments \n",
    "# for loop in functions"
   ]
  },
  {
   "cell_type": "code",
   "execution_count": null,
   "id": "712df68d-c425-4cd7-bb5d-8bdc498715e8",
   "metadata": {},
   "outputs": [],
   "source": []
  },
  {
   "cell_type": "code",
   "execution_count": null,
   "id": "95948098-eed4-4181-8edc-561a7085ccb3",
   "metadata": {},
   "outputs": [],
   "source": [
    "# Function returning a simple value"
   ]
  },
  {
   "cell_type": "code",
   "execution_count": null,
   "id": "7918710e-20f3-4792-a02a-cb2f072fbe85",
   "metadata": {},
   "outputs": [],
   "source": [
    "# Take a firstname and a lastname and return the full name formatted"
   ]
  },
  {
   "cell_type": "code",
   "execution_count": 3,
   "id": "784f55db-0ae3-4fef-92b8-ab4227a955d8",
   "metadata": {},
   "outputs": [],
   "source": [
    "def get_formatted_name(first_name, last_name):\n",
    "    \"\"\"Return a formatted fullname\"\"\"\n",
    "    full_name = f\"{first_name} {last_name}\"\n",
    "    return full_name.title()\n"
   ]
  },
  {
   "cell_type": "code",
   "execution_count": 5,
   "id": "66ad3cd0-f094-43d2-bc17-c6ee6d13e33a",
   "metadata": {},
   "outputs": [
    {
     "name": "stdout",
     "output_type": "stream",
     "text": [
      "Sai Pallavi\n"
     ]
    }
   ],
   "source": [
    "person  = get_formatted_name('sai','pallavi')\n",
    "print(person)\n",
    "                             "
   ]
  },
  {
   "cell_type": "code",
   "execution_count": null,
   "id": "db886aaf-072d-42eb-8edc-801e583731b1",
   "metadata": {},
   "outputs": [],
   "source": [
    "# Passing arbitary number of arguments"
   ]
  },
  {
   "cell_type": "code",
   "execution_count": 7,
   "id": "1cd7ba90-eb57-4a38-8496-6e030f54a213",
   "metadata": {},
   "outputs": [],
   "source": [
    "def make_pizza(toppings):\n",
    "    \"\"\"print the list of toppings that has been requested\"\"\"\n",
    "    print(toppings)"
   ]
  },
  {
   "cell_type": "code",
   "execution_count": 9,
   "id": "1efcdc16-f127-4507-ae14-475e020eb59e",
   "metadata": {},
   "outputs": [
    {
     "name": "stdout",
     "output_type": "stream",
     "text": [
      "olives\n"
     ]
    }
   ],
   "source": [
    "make_pizza('olives')"
   ]
  },
  {
   "cell_type": "code",
   "execution_count": 11,
   "id": "bf6aa6e7-2076-423f-a2dc-c061b6c23a62",
   "metadata": {},
   "outputs": [
    {
     "ename": "TypeError",
     "evalue": "make_pizza() takes 1 positional argument but 2 were given",
     "output_type": "error",
     "traceback": [
      "\u001b[1;31m---------------------------------------------------------------------------\u001b[0m",
      "\u001b[1;31mTypeError\u001b[0m                                 Traceback (most recent call last)",
      "Cell \u001b[1;32mIn[11], line 2\u001b[0m\n\u001b[0;32m      1\u001b[0m \u001b[38;5;66;03m# When the customer orders a pizza with two toppings\u001b[39;00m\n\u001b[1;32m----> 2\u001b[0m make_pizza(\u001b[38;5;124m'\u001b[39m\u001b[38;5;124molives\u001b[39m\u001b[38;5;124m'\u001b[39m,\u001b[38;5;124m'\u001b[39m\u001b[38;5;124mtomatoes\u001b[39m\u001b[38;5;124m'\u001b[39m)\n",
      "\u001b[1;31mTypeError\u001b[0m: make_pizza() takes 1 positional argument but 2 were given"
     ]
    }
   ],
   "source": [
    "# When the customer orders a pizza with two toppings\n",
    "make_pizza('olives','tomatoes')"
   ]
  },
  {
   "cell_type": "code",
   "execution_count": 16,
   "id": "5731ee84-4b75-4286-9921-2060cb66c02d",
   "metadata": {},
   "outputs": [],
   "source": [
    "# We give the arbitary argument to the function\n",
    "def make_pizza(*toppings):\n",
    "     \"\"\"print the list of toppings that has been requested\"\"\"\n",
    "     print(toppings)\n",
    "\n"
   ]
  },
  {
   "cell_type": "code",
   "execution_count": 18,
   "id": "ef9e1596-ff91-420e-92da-851e74a2b42c",
   "metadata": {},
   "outputs": [
    {
     "name": "stdout",
     "output_type": "stream",
     "text": [
      "('onion',)\n"
     ]
    }
   ],
   "source": [
    "make_pizza('onion')"
   ]
  },
  {
   "cell_type": "code",
   "execution_count": 20,
   "id": "b080b481-a13a-41db-b9ab-d809a8f5db2e",
   "metadata": {},
   "outputs": [
    {
     "name": "stdout",
     "output_type": "stream",
     "text": [
      "('olives', 'bell pepper', 'onion')\n"
     ]
    }
   ],
   "source": [
    "make_pizza('olives', 'bell pepper', 'onion')"
   ]
  },
  {
   "cell_type": "code",
   "execution_count": 42,
   "id": "531dbbb4-a22d-4362-8685-73d4eea4cca0",
   "metadata": {},
   "outputs": [],
   "source": [
    "# Making use of for loop in the function to print the toppings\n",
    "\n",
    "def toppings(*toppings):\n",
    "    \"\"\"Summarize the pizza toppings:\"\"\"\n",
    "    print(\"\\nMaking the pizza with the below toppings:\")\n",
    "    for a in toppings:\n",
    "        print(f\"-{a}\")\n"
   ]
  },
  {
   "cell_type": "code",
   "execution_count": 44,
   "id": "4cb0bd75-d599-4b79-9b98-f08309544848",
   "metadata": {},
   "outputs": [
    {
     "name": "stdout",
     "output_type": "stream",
     "text": [
      "\n",
      "Making the pizza with the below toppings:\n",
      "-olives\n",
      "-tomatoes\n",
      "-bell pepper\n"
     ]
    }
   ],
   "source": [
    "toppings('olives','tomatoes','bell pepper')"
   ]
  },
  {
   "cell_type": "code",
   "execution_count": null,
   "id": "d539b630-02e0-4c9b-9a0a-eab880334975",
   "metadata": {},
   "outputs": [],
   "source": [
    "# Mixing arbitary & positional arguments"
   ]
  },
  {
   "cell_type": "code",
   "execution_count": 46,
   "id": "f4e2a42d-24f2-4141-8204-50664c0ff7ed",
   "metadata": {},
   "outputs": [],
   "source": [
    "def make_pizza(size, *toppings):\n",
    "    \"\"\"Summarize the pizza toppings\"\"\"\n",
    "    print(f\"\\n Making a {size} inch pizza with the below toppings:\")\n",
    "    for a in toppings:\n",
    "        print(f\"-{a}\")"
   ]
  },
  {
   "cell_type": "code",
   "execution_count": 48,
   "id": "9b91f833-cbf4-4566-b7d6-9c745c18b9b2",
   "metadata": {},
   "outputs": [
    {
     "name": "stdout",
     "output_type": "stream",
     "text": [
      "\n",
      " Making a 12 inch pizza with the below toppings:\n",
      "-olives\n",
      "-pepperoni\n",
      "-peppers\n"
     ]
    }
   ],
   "source": [
    "make_pizza(12, 'olives', 'pepperoni', 'peppers')"
   ]
  },
  {
   "cell_type": "code",
   "execution_count": null,
   "id": "f3673e3f-7b01-434e-ba8a-4c9588718d32",
   "metadata": {},
   "outputs": [],
   "source": []
  }
 ],
 "metadata": {
  "kernelspec": {
   "display_name": "Python 3 (ipykernel)",
   "language": "python",
   "name": "python3"
  },
  "language_info": {
   "codemirror_mode": {
    "name": "ipython",
    "version": 3
   },
   "file_extension": ".py",
   "mimetype": "text/x-python",
   "name": "python",
   "nbconvert_exporter": "python",
   "pygments_lexer": "ipython3",
   "version": "3.11.7"
  }
 },
 "nbformat": 4,
 "nbformat_minor": 5
}
